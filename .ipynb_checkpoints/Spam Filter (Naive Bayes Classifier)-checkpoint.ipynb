{
 "cells": [
  {
   "cell_type": "markdown",
   "metadata": {},
   "source": [
    "# Imports"
   ]
  },
  {
   "cell_type": "code",
   "execution_count": 1,
   "metadata": {},
   "outputs": [],
   "source": [
    "from os import walk\n",
    "from os.path import join\n",
    "import pandas as pd\n",
    "import matplotlib.pyplot as plt\n",
    "\n",
    "# Natural Language Toolkit\n",
    "\n",
    "import nltk\n",
    "from nltk.stem import PorterStemmer\n",
    "from nltk.corpus import stopwords\n",
    "from nltk.tokenize import word_tokenize\n",
    "\n",
    "from bs4 import BeautifulSoup\n",
    "\n",
    "%matplotlib inline"
   ]
  },
  {
   "cell_type": "markdown",
   "metadata": {},
   "source": [
    "# Constants"
   ]
  },
  {
   "cell_type": "code",
   "execution_count": 2,
   "metadata": {},
   "outputs": [],
   "source": [
    "EXAMPLE_FILE = 'SpamData/01_Processing/practice_email.txt'\n",
    "SPAM_1_PATH = 'SpamData/01_Processing/spam_assassin_corpus/spam_1'\n",
    "SPAM_2_PATH = 'SpamData/01_Processing/spam_assassin_corpus/spam_2'\n",
    "EASY_NONSPAM_1_PATH = 'SpamData/01_Processing/spam_assassin_corpus/easy_ham_1'\n",
    "EASY_NONSPAM_2_PATH = 'SpamData/01_Processing/spam_assassin_corpus/easy_ham_2'\n",
    "\n",
    "SPAM_CAT = 1\n",
    "HAM_CAT = 0\n",
    "\n",
    "DATA_JSON_FILE = 'SpamData/01_Processing/email-text-data.json'"
   ]
  },
  {
   "cell_type": "code",
   "execution_count": 3,
   "metadata": {},
   "outputs": [
    {
     "name": "stdout",
     "output_type": "stream",
     "text": [
      "\n",
      "\n",
      "Dear Mr Still\n",
      "\n",
      "\n",
      "\n",
      "Good tidings to you and all your staff for the festive season ahead (Christmas).\n",
      "\n",
      "Now to the crux of the matter-in-hand: I am a fully qualified Santa Claus and am wondering whether you might consider me to run my own \"Santa's Grotto\" in your store.\n",
      "\n",
      "But WAIT! You're probably thinking: \"What makes him so special?\"\n",
      "\n",
      "Well, first of all, I have made several changes to the characterisation of Father Christmas. Rather than greeting the children with shouts of \"Ho, ho, ho!\" I prefer to whisper the phrase \"Dependence is not unfathomable in this cruel world we live in\". In addition, my gifts are ALL hand-made, ranging from felt hoops to vanilla-pod holders.\n",
      "\n",
      "You will note also, from the enclosed sketch, that I have radically redesigned Santa's outfit and have renamed my character \"Lord Buckles\". Would you be interested in employing me? I promise NEVER to let you down.\n",
      "\n",
      "I look forward to hearing from you.\n",
      "\n",
      "\n",
      "\n",
      "Best wishes\n",
      "\n",
      "Robin Cooper\n",
      "\n",
      "[Excerpt from the book: The Timewaster Letters by Robin Cooper]\n",
      "\n"
     ]
    }
   ],
   "source": [
    "stream = open(EXAMPLE_FILE, encoding='latin-1')\n",
    "# message = stream.read()\n",
    "is_body = False\n",
    "lines = []\n",
    "\n",
    "for line in stream:\n",
    "    if is_body:\n",
    "        lines.append(line)\n",
    "    elif line == '\\n':\n",
    "        is_body = True\n",
    "\n",
    "stream.close()\n",
    "\n",
    "email_body = '\\n'.join(lines)\n",
    "print(email_body)"
   ]
  },
  {
   "cell_type": "markdown",
   "metadata": {},
   "source": [
    "# Generator Functions"
   ]
  },
  {
   "cell_type": "code",
   "execution_count": 4,
   "metadata": {},
   "outputs": [],
   "source": [
    "def generate_squares(N):\n",
    "    for my_number in range(N):\n",
    "        yield my_number**2"
   ]
  },
  {
   "cell_type": "code",
   "execution_count": 5,
   "metadata": {},
   "outputs": [
    {
     "name": "stdout",
     "output_type": "stream",
     "text": [
      "0,1,4,9,16,"
     ]
    }
   ],
   "source": [
    "for i in generate_squares(5):\n",
    "    print(i, end=',')"
   ]
  },
  {
   "cell_type": "markdown",
   "metadata": {},
   "source": [
    "# Email body extraction"
   ]
  },
  {
   "cell_type": "code",
   "execution_count": 6,
   "metadata": {},
   "outputs": [],
   "source": [
    "def email_body_generator(path):\n",
    "    for root, dirnames, filenames in walk(path):\n",
    "        for file_name in filenames: \n",
    "            filepath = join(root,file_name)\n",
    "            stream = open(filepath, encoding='latin-1')\n",
    "            # message = stream.read()\n",
    "            is_body = False\n",
    "            lines = []\n",
    "\n",
    "            for line in stream:\n",
    "                if is_body:\n",
    "                    lines.append(line)\n",
    "                elif line == '\\n':\n",
    "                    is_body = True\n",
    "\n",
    "            stream.close()\n",
    "            email_body = '\\n'.join(lines)\n",
    "            yield file_name, email_body"
   ]
  },
  {
   "cell_type": "code",
   "execution_count": 7,
   "metadata": {},
   "outputs": [],
   "source": [
    "def df_from_directory(path, classification):\n",
    "    rows = []\n",
    "    row_names = []\n",
    "    \n",
    "    for file_name, email_body in email_body_generator(path):\n",
    "        rows.append({'MESSAGE': email_body, 'CATEGORY': classification})\n",
    "        row_names.append(file_name)\n",
    "    \n",
    "    return pd.DataFrame(rows, index=row_names)"
   ]
  },
  {
   "cell_type": "code",
   "execution_count": 8,
   "metadata": {},
   "outputs": [
    {
     "name": "stdout",
     "output_type": "stream",
     "text": [
      "(1898, 2)\n"
     ]
    },
    {
     "data": {
      "text/html": [
       "<div>\n",
       "<style scoped>\n",
       "    .dataframe tbody tr th:only-of-type {\n",
       "        vertical-align: middle;\n",
       "    }\n",
       "\n",
       "    .dataframe tbody tr th {\n",
       "        vertical-align: top;\n",
       "    }\n",
       "\n",
       "    .dataframe thead th {\n",
       "        text-align: right;\n",
       "    }\n",
       "</style>\n",
       "<table border=\"1\" class=\"dataframe\">\n",
       "  <thead>\n",
       "    <tr style=\"text-align: right;\">\n",
       "      <th></th>\n",
       "      <th>MESSAGE</th>\n",
       "      <th>CATEGORY</th>\n",
       "    </tr>\n",
       "  </thead>\n",
       "  <tbody>\n",
       "    <tr>\n",
       "      <th>00001.7848dde101aa985090474a91ec93fcf0</th>\n",
       "      <td>&lt;!DOCTYPE HTML PUBLIC \"-//W3C//DTD HTML 4.0 Tr...</td>\n",
       "      <td>1</td>\n",
       "    </tr>\n",
       "    <tr>\n",
       "      <th>00002.d94f1b97e48ed3b553b3508d116e6a09</th>\n",
       "      <td>1) Fight The Risk of Cancer!\\n\\nhttp://www.adc...</td>\n",
       "      <td>1</td>\n",
       "    </tr>\n",
       "    <tr>\n",
       "      <th>00003.2ee33bc6eacdb11f38d052c44819ba6c</th>\n",
       "      <td>1) Fight The Risk of Cancer!\\n\\nhttp://www.adc...</td>\n",
       "      <td>1</td>\n",
       "    </tr>\n",
       "    <tr>\n",
       "      <th>00004.eac8de8d759b7e74154f142194282724</th>\n",
       "      <td>##############################################...</td>\n",
       "      <td>1</td>\n",
       "    </tr>\n",
       "    <tr>\n",
       "      <th>00005.57696a39d7d84318ce497886896bf90d</th>\n",
       "      <td>I thought you might like these:\\n\\n1) Slim Dow...</td>\n",
       "      <td>1</td>\n",
       "    </tr>\n",
       "  </tbody>\n",
       "</table>\n",
       "</div>"
      ],
      "text/plain": [
       "                                                                                  MESSAGE  \\\n",
       "00001.7848dde101aa985090474a91ec93fcf0  <!DOCTYPE HTML PUBLIC \"-//W3C//DTD HTML 4.0 Tr...   \n",
       "00002.d94f1b97e48ed3b553b3508d116e6a09  1) Fight The Risk of Cancer!\\n\\nhttp://www.adc...   \n",
       "00003.2ee33bc6eacdb11f38d052c44819ba6c  1) Fight The Risk of Cancer!\\n\\nhttp://www.adc...   \n",
       "00004.eac8de8d759b7e74154f142194282724  ##############################################...   \n",
       "00005.57696a39d7d84318ce497886896bf90d  I thought you might like these:\\n\\n1) Slim Dow...   \n",
       "\n",
       "                                        CATEGORY  \n",
       "00001.7848dde101aa985090474a91ec93fcf0         1  \n",
       "00002.d94f1b97e48ed3b553b3508d116e6a09         1  \n",
       "00003.2ee33bc6eacdb11f38d052c44819ba6c         1  \n",
       "00004.eac8de8d759b7e74154f142194282724         1  \n",
       "00005.57696a39d7d84318ce497886896bf90d         1  "
      ]
     },
     "execution_count": 8,
     "metadata": {},
     "output_type": "execute_result"
    }
   ],
   "source": [
    "spam_emails = df_from_directory(SPAM_1_PATH,SPAM_CAT)\n",
    "spam_emails = spam_emails.append(df_from_directory(SPAM_2_PATH,SPAM_CAT))\n",
    "print(spam_emails.shape)\n",
    "spam_emails.head()"
   ]
  },
  {
   "cell_type": "code",
   "execution_count": 9,
   "metadata": {},
   "outputs": [
    {
     "name": "stdout",
     "output_type": "stream",
     "text": [
      "(3901, 2)\n"
     ]
    },
    {
     "data": {
      "text/html": [
       "<div>\n",
       "<style scoped>\n",
       "    .dataframe tbody tr th:only-of-type {\n",
       "        vertical-align: middle;\n",
       "    }\n",
       "\n",
       "    .dataframe tbody tr th {\n",
       "        vertical-align: top;\n",
       "    }\n",
       "\n",
       "    .dataframe thead th {\n",
       "        text-align: right;\n",
       "    }\n",
       "</style>\n",
       "<table border=\"1\" class=\"dataframe\">\n",
       "  <thead>\n",
       "    <tr style=\"text-align: right;\">\n",
       "      <th></th>\n",
       "      <th>MESSAGE</th>\n",
       "      <th>CATEGORY</th>\n",
       "    </tr>\n",
       "  </thead>\n",
       "  <tbody>\n",
       "    <tr>\n",
       "      <th>00001.7c53336b37003a9286aba55d2945844c</th>\n",
       "      <td>Date:        Wed, 21 Aug 2002 10:54:46 -05...</td>\n",
       "      <td>0</td>\n",
       "    </tr>\n",
       "    <tr>\n",
       "      <th>00002.9c4069e25e1ef370c078db7ee85ff9ac</th>\n",
       "      <td>Martin A posted:\\n\\nTassos Papadopoulos, the G...</td>\n",
       "      <td>0</td>\n",
       "    </tr>\n",
       "    <tr>\n",
       "      <th>00003.860e3c3cee1b42ead714c5c874fe25f7</th>\n",
       "      <td>Man Threatens Explosion In Moscow \\n\\n\\n\\nThur...</td>\n",
       "      <td>0</td>\n",
       "    </tr>\n",
       "    <tr>\n",
       "      <th>00004.864220c5b6930b209cc287c361c99af1</th>\n",
       "      <td>Klez: The Virus That Won't Die\\n\\n \\n\\nAlready...</td>\n",
       "      <td>0</td>\n",
       "    </tr>\n",
       "    <tr>\n",
       "      <th>00005.bf27cdeaf0b8c4647ecd61b1d09da613</th>\n",
       "      <td>&gt;  in adding cream to spaghetti carbonara, whi...</td>\n",
       "      <td>0</td>\n",
       "    </tr>\n",
       "  </tbody>\n",
       "</table>\n",
       "</div>"
      ],
      "text/plain": [
       "                                                                                  MESSAGE  \\\n",
       "00001.7c53336b37003a9286aba55d2945844c      Date:        Wed, 21 Aug 2002 10:54:46 -05...   \n",
       "00002.9c4069e25e1ef370c078db7ee85ff9ac  Martin A posted:\\n\\nTassos Papadopoulos, the G...   \n",
       "00003.860e3c3cee1b42ead714c5c874fe25f7  Man Threatens Explosion In Moscow \\n\\n\\n\\nThur...   \n",
       "00004.864220c5b6930b209cc287c361c99af1  Klez: The Virus That Won't Die\\n\\n \\n\\nAlready...   \n",
       "00005.bf27cdeaf0b8c4647ecd61b1d09da613  >  in adding cream to spaghetti carbonara, whi...   \n",
       "\n",
       "                                        CATEGORY  \n",
       "00001.7c53336b37003a9286aba55d2945844c         0  \n",
       "00002.9c4069e25e1ef370c078db7ee85ff9ac         0  \n",
       "00003.860e3c3cee1b42ead714c5c874fe25f7         0  \n",
       "00004.864220c5b6930b209cc287c361c99af1         0  \n",
       "00005.bf27cdeaf0b8c4647ecd61b1d09da613         0  "
      ]
     },
     "execution_count": 9,
     "metadata": {},
     "output_type": "execute_result"
    }
   ],
   "source": [
    "ham_emails = df_from_directory(EASY_NONSPAM_1_PATH,HAM_CAT)\n",
    "ham_emails = ham_emails.append(df_from_directory(EASY_NONSPAM_2_PATH,HAM_CAT))\n",
    "print(ham_emails.shape)\n",
    "ham_emails.head()"
   ]
  },
  {
   "cell_type": "code",
   "execution_count": 10,
   "metadata": {},
   "outputs": [
    {
     "name": "stdout",
     "output_type": "stream",
     "text": [
      "(5799, 2)\n"
     ]
    },
    {
     "data": {
      "text/html": [
       "<div>\n",
       "<style scoped>\n",
       "    .dataframe tbody tr th:only-of-type {\n",
       "        vertical-align: middle;\n",
       "    }\n",
       "\n",
       "    .dataframe tbody tr th {\n",
       "        vertical-align: top;\n",
       "    }\n",
       "\n",
       "    .dataframe thead th {\n",
       "        text-align: right;\n",
       "    }\n",
       "</style>\n",
       "<table border=\"1\" class=\"dataframe\">\n",
       "  <thead>\n",
       "    <tr style=\"text-align: right;\">\n",
       "      <th></th>\n",
       "      <th>MESSAGE</th>\n",
       "      <th>CATEGORY</th>\n",
       "    </tr>\n",
       "  </thead>\n",
       "  <tbody>\n",
       "    <tr>\n",
       "      <th>00001.7848dde101aa985090474a91ec93fcf0</th>\n",
       "      <td>&lt;!DOCTYPE HTML PUBLIC \"-//W3C//DTD HTML 4.0 Tr...</td>\n",
       "      <td>1</td>\n",
       "    </tr>\n",
       "    <tr>\n",
       "      <th>00002.d94f1b97e48ed3b553b3508d116e6a09</th>\n",
       "      <td>1) Fight The Risk of Cancer!\\n\\nhttp://www.adc...</td>\n",
       "      <td>1</td>\n",
       "    </tr>\n",
       "    <tr>\n",
       "      <th>00003.2ee33bc6eacdb11f38d052c44819ba6c</th>\n",
       "      <td>1) Fight The Risk of Cancer!\\n\\nhttp://www.adc...</td>\n",
       "      <td>1</td>\n",
       "    </tr>\n",
       "    <tr>\n",
       "      <th>00004.eac8de8d759b7e74154f142194282724</th>\n",
       "      <td>##############################################...</td>\n",
       "      <td>1</td>\n",
       "    </tr>\n",
       "    <tr>\n",
       "      <th>00005.57696a39d7d84318ce497886896bf90d</th>\n",
       "      <td>I thought you might like these:\\n\\n1) Slim Dow...</td>\n",
       "      <td>1</td>\n",
       "    </tr>\n",
       "  </tbody>\n",
       "</table>\n",
       "</div>"
      ],
      "text/plain": [
       "                                                                                  MESSAGE  \\\n",
       "00001.7848dde101aa985090474a91ec93fcf0  <!DOCTYPE HTML PUBLIC \"-//W3C//DTD HTML 4.0 Tr...   \n",
       "00002.d94f1b97e48ed3b553b3508d116e6a09  1) Fight The Risk of Cancer!\\n\\nhttp://www.adc...   \n",
       "00003.2ee33bc6eacdb11f38d052c44819ba6c  1) Fight The Risk of Cancer!\\n\\nhttp://www.adc...   \n",
       "00004.eac8de8d759b7e74154f142194282724  ##############################################...   \n",
       "00005.57696a39d7d84318ce497886896bf90d  I thought you might like these:\\n\\n1) Slim Dow...   \n",
       "\n",
       "                                        CATEGORY  \n",
       "00001.7848dde101aa985090474a91ec93fcf0         1  \n",
       "00002.d94f1b97e48ed3b553b3508d116e6a09         1  \n",
       "00003.2ee33bc6eacdb11f38d052c44819ba6c         1  \n",
       "00004.eac8de8d759b7e74154f142194282724         1  \n",
       "00005.57696a39d7d84318ce497886896bf90d         1  "
      ]
     },
     "execution_count": 10,
     "metadata": {},
     "output_type": "execute_result"
    }
   ],
   "source": [
    "data = pd.concat([spam_emails,ham_emails])\n",
    "print(data.shape)\n",
    "data.head()"
   ]
  },
  {
   "cell_type": "code",
   "execution_count": 11,
   "metadata": {},
   "outputs": [
    {
     "data": {
      "text/html": [
       "<div>\n",
       "<style scoped>\n",
       "    .dataframe tbody tr th:only-of-type {\n",
       "        vertical-align: middle;\n",
       "    }\n",
       "\n",
       "    .dataframe tbody tr th {\n",
       "        vertical-align: top;\n",
       "    }\n",
       "\n",
       "    .dataframe thead th {\n",
       "        text-align: right;\n",
       "    }\n",
       "</style>\n",
       "<table border=\"1\" class=\"dataframe\">\n",
       "  <thead>\n",
       "    <tr style=\"text-align: right;\">\n",
       "      <th></th>\n",
       "      <th>MESSAGE</th>\n",
       "      <th>CATEGORY</th>\n",
       "    </tr>\n",
       "  </thead>\n",
       "  <tbody>\n",
       "    <tr>\n",
       "      <th>01396.61983fbe6ec43f55fd44e30fce24ffa6</th>\n",
       "      <td>http://news.bbc.co.uk/1/hi/england/2515127.stm...</td>\n",
       "      <td>0</td>\n",
       "    </tr>\n",
       "    <tr>\n",
       "      <th>01397.9f9ef4c2a8dc012d80f2ce2d3473d3b7</th>\n",
       "      <td>&gt; &gt;-- be careful when using this one.) Also, t...</td>\n",
       "      <td>0</td>\n",
       "    </tr>\n",
       "    <tr>\n",
       "      <th>01398.169b51731fe569f42169ae8f948ec676</th>\n",
       "      <td>&gt;&gt;&gt;&gt;&gt; \"SM\" == Skip Montanaro &lt;skip@pobox.com&gt; ...</td>\n",
       "      <td>0</td>\n",
       "    </tr>\n",
       "    <tr>\n",
       "      <th>01399.ca6b00b7b341bbde9a9ea3dd6a7bf896</th>\n",
       "      <td>So then, \"Mark Hammond\" &lt;mhammond@skippinet.co...</td>\n",
       "      <td>0</td>\n",
       "    </tr>\n",
       "    <tr>\n",
       "      <th>01400.f897f0931e461e7b2e964d28e927c35e</th>\n",
       "      <td>Hi there,\\n\\n\\n\\nNow this is probably of no us...</td>\n",
       "      <td>0</td>\n",
       "    </tr>\n",
       "  </tbody>\n",
       "</table>\n",
       "</div>"
      ],
      "text/plain": [
       "                                                                                  MESSAGE  \\\n",
       "01396.61983fbe6ec43f55fd44e30fce24ffa6  http://news.bbc.co.uk/1/hi/england/2515127.stm...   \n",
       "01397.9f9ef4c2a8dc012d80f2ce2d3473d3b7  > >-- be careful when using this one.) Also, t...   \n",
       "01398.169b51731fe569f42169ae8f948ec676  >>>>> \"SM\" == Skip Montanaro <skip@pobox.com> ...   \n",
       "01399.ca6b00b7b341bbde9a9ea3dd6a7bf896  So then, \"Mark Hammond\" <mhammond@skippinet.co...   \n",
       "01400.f897f0931e461e7b2e964d28e927c35e  Hi there,\\n\\n\\n\\nNow this is probably of no us...   \n",
       "\n",
       "                                        CATEGORY  \n",
       "01396.61983fbe6ec43f55fd44e30fce24ffa6         0  \n",
       "01397.9f9ef4c2a8dc012d80f2ce2d3473d3b7         0  \n",
       "01398.169b51731fe569f42169ae8f948ec676         0  \n",
       "01399.ca6b00b7b341bbde9a9ea3dd6a7bf896         0  \n",
       "01400.f897f0931e461e7b2e964d28e927c35e         0  "
      ]
     },
     "execution_count": 11,
     "metadata": {},
     "output_type": "execute_result"
    }
   ],
   "source": [
    "data.tail()"
   ]
  },
  {
   "cell_type": "markdown",
   "metadata": {},
   "source": [
    "# Data Cleaning"
   ]
  },
  {
   "cell_type": "code",
   "execution_count": 12,
   "metadata": {},
   "outputs": [
    {
     "data": {
      "text/plain": [
       "0"
      ]
     },
     "execution_count": 12,
     "metadata": {},
     "output_type": "execute_result"
    }
   ],
   "source": [
    "# check if any message bodies are null\n",
    "data['MESSAGE'].isnull().values.any()\n",
    "data['MESSAGE'].isnull().sum()"
   ]
  },
  {
   "cell_type": "code",
   "execution_count": 13,
   "metadata": {},
   "outputs": [
    {
     "data": {
      "text/html": [
       "<div>\n",
       "<style scoped>\n",
       "    .dataframe tbody tr th:only-of-type {\n",
       "        vertical-align: middle;\n",
       "    }\n",
       "\n",
       "    .dataframe tbody tr th {\n",
       "        vertical-align: top;\n",
       "    }\n",
       "\n",
       "    .dataframe thead th {\n",
       "        text-align: right;\n",
       "    }\n",
       "</style>\n",
       "<table border=\"1\" class=\"dataframe\">\n",
       "  <thead>\n",
       "    <tr style=\"text-align: right;\">\n",
       "      <th></th>\n",
       "      <th>MESSAGE</th>\n",
       "      <th>CATEGORY</th>\n",
       "    </tr>\n",
       "  </thead>\n",
       "  <tbody>\n",
       "    <tr>\n",
       "      <th>cmds</th>\n",
       "      <td></td>\n",
       "      <td>1</td>\n",
       "    </tr>\n",
       "    <tr>\n",
       "      <th>cmds</th>\n",
       "      <td></td>\n",
       "      <td>1</td>\n",
       "    </tr>\n",
       "    <tr>\n",
       "      <th>cmds</th>\n",
       "      <td></td>\n",
       "      <td>0</td>\n",
       "    </tr>\n",
       "  </tbody>\n",
       "</table>\n",
       "</div>"
      ],
      "text/plain": [
       "     MESSAGE  CATEGORY\n",
       "cmds                 1\n",
       "cmds                 1\n",
       "cmds                 0"
      ]
     },
     "execution_count": 13,
     "metadata": {},
     "output_type": "execute_result"
    }
   ],
   "source": [
    "# Check if there are empty emails (string length zero)\n",
    "data.loc[data['MESSAGE']==\"\"]"
   ]
  },
  {
   "cell_type": "code",
   "execution_count": 14,
   "metadata": {},
   "outputs": [
    {
     "data": {
      "text/html": [
       "<div>\n",
       "<style scoped>\n",
       "    .dataframe tbody tr th:only-of-type {\n",
       "        vertical-align: middle;\n",
       "    }\n",
       "\n",
       "    .dataframe tbody tr th {\n",
       "        vertical-align: top;\n",
       "    }\n",
       "\n",
       "    .dataframe thead th {\n",
       "        text-align: right;\n",
       "    }\n",
       "</style>\n",
       "<table border=\"1\" class=\"dataframe\">\n",
       "  <thead>\n",
       "    <tr style=\"text-align: right;\">\n",
       "      <th></th>\n",
       "      <th>MESSAGE</th>\n",
       "      <th>CATEGORY</th>\n",
       "    </tr>\n",
       "  </thead>\n",
       "  <tbody>\n",
       "    <tr>\n",
       "      <th>cmds</th>\n",
       "      <td></td>\n",
       "      <td>1</td>\n",
       "    </tr>\n",
       "    <tr>\n",
       "      <th>cmds</th>\n",
       "      <td></td>\n",
       "      <td>1</td>\n",
       "    </tr>\n",
       "    <tr>\n",
       "      <th>cmds</th>\n",
       "      <td></td>\n",
       "      <td>0</td>\n",
       "    </tr>\n",
       "  </tbody>\n",
       "</table>\n",
       "</div>"
      ],
      "text/plain": [
       "     MESSAGE  CATEGORY\n",
       "cmds                 1\n",
       "cmds                 1\n",
       "cmds                 0"
      ]
     },
     "execution_count": 14,
     "metadata": {},
     "output_type": "execute_result"
    }
   ],
   "source": [
    "data[data.MESSAGE.str.len() == 0].count()\n",
    "data[data.MESSAGE.str.len() == 0].index\n",
    "data[data.MESSAGE.str.len() == 0]"
   ]
  },
  {
   "cell_type": "code",
   "execution_count": 15,
   "metadata": {},
   "outputs": [
    {
     "data": {
      "text/html": [
       "<div>\n",
       "<style scoped>\n",
       "    .dataframe tbody tr th:only-of-type {\n",
       "        vertical-align: middle;\n",
       "    }\n",
       "\n",
       "    .dataframe tbody tr th {\n",
       "        vertical-align: top;\n",
       "    }\n",
       "\n",
       "    .dataframe thead th {\n",
       "        text-align: right;\n",
       "    }\n",
       "</style>\n",
       "<table border=\"1\" class=\"dataframe\">\n",
       "  <thead>\n",
       "    <tr style=\"text-align: right;\">\n",
       "      <th></th>\n",
       "      <th>MESSAGE</th>\n",
       "      <th>CATEGORY</th>\n",
       "    </tr>\n",
       "  </thead>\n",
       "  <tbody>\n",
       "    <tr>\n",
       "      <th>cmds</th>\n",
       "      <td></td>\n",
       "      <td>1</td>\n",
       "    </tr>\n",
       "    <tr>\n",
       "      <th>cmds</th>\n",
       "      <td></td>\n",
       "      <td>1</td>\n",
       "    </tr>\n",
       "    <tr>\n",
       "      <th>cmds</th>\n",
       "      <td></td>\n",
       "      <td>0</td>\n",
       "    </tr>\n",
       "  </tbody>\n",
       "</table>\n",
       "</div>"
      ],
      "text/plain": [
       "     MESSAGE  CATEGORY\n",
       "cmds                 1\n",
       "cmds                 1\n",
       "cmds                 0"
      ]
     },
     "execution_count": 15,
     "metadata": {},
     "output_type": "execute_result"
    }
   ],
   "source": [
    "data.loc[data.index == 'cmds']"
   ]
  },
  {
   "cell_type": "markdown",
   "metadata": {},
   "source": [
    "# Remove cmd files from Dataframe"
   ]
  },
  {
   "cell_type": "code",
   "execution_count": 16,
   "metadata": {},
   "outputs": [
    {
     "data": {
      "text/plain": [
       "(5796, 2)"
      ]
     },
     "execution_count": 16,
     "metadata": {},
     "output_type": "execute_result"
    }
   ],
   "source": [
    "data.drop(['cmds'], inplace=True)\n",
    "data.shape"
   ]
  },
  {
   "cell_type": "markdown",
   "metadata": {},
   "source": [
    "# Add Document IDs to Track Emails in Dataset"
   ]
  },
  {
   "cell_type": "code",
   "execution_count": 17,
   "metadata": {},
   "outputs": [],
   "source": [
    "document_ids = range(0,len(data.index))\n",
    "data['DOC_ID'] = document_ids"
   ]
  },
  {
   "cell_type": "code",
   "execution_count": 18,
   "metadata": {},
   "outputs": [
    {
     "data": {
      "text/html": [
       "<div>\n",
       "<style scoped>\n",
       "    .dataframe tbody tr th:only-of-type {\n",
       "        vertical-align: middle;\n",
       "    }\n",
       "\n",
       "    .dataframe tbody tr th {\n",
       "        vertical-align: top;\n",
       "    }\n",
       "\n",
       "    .dataframe thead th {\n",
       "        text-align: right;\n",
       "    }\n",
       "</style>\n",
       "<table border=\"1\" class=\"dataframe\">\n",
       "  <thead>\n",
       "    <tr style=\"text-align: right;\">\n",
       "      <th></th>\n",
       "      <th>MESSAGE</th>\n",
       "      <th>CATEGORY</th>\n",
       "      <th>FILE_NAME</th>\n",
       "    </tr>\n",
       "    <tr>\n",
       "      <th>DOC_ID</th>\n",
       "      <th></th>\n",
       "      <th></th>\n",
       "      <th></th>\n",
       "    </tr>\n",
       "  </thead>\n",
       "  <tbody>\n",
       "    <tr>\n",
       "      <th>0</th>\n",
       "      <td>&lt;!DOCTYPE HTML PUBLIC \"-//W3C//DTD HTML 4.0 Tr...</td>\n",
       "      <td>1</td>\n",
       "      <td>00001.7848dde101aa985090474a91ec93fcf0</td>\n",
       "    </tr>\n",
       "    <tr>\n",
       "      <th>1</th>\n",
       "      <td>1) Fight The Risk of Cancer!\\n\\nhttp://www.adc...</td>\n",
       "      <td>1</td>\n",
       "      <td>00002.d94f1b97e48ed3b553b3508d116e6a09</td>\n",
       "    </tr>\n",
       "    <tr>\n",
       "      <th>2</th>\n",
       "      <td>1) Fight The Risk of Cancer!\\n\\nhttp://www.adc...</td>\n",
       "      <td>1</td>\n",
       "      <td>00003.2ee33bc6eacdb11f38d052c44819ba6c</td>\n",
       "    </tr>\n",
       "    <tr>\n",
       "      <th>3</th>\n",
       "      <td>##############################################...</td>\n",
       "      <td>1</td>\n",
       "      <td>00004.eac8de8d759b7e74154f142194282724</td>\n",
       "    </tr>\n",
       "    <tr>\n",
       "      <th>4</th>\n",
       "      <td>I thought you might like these:\\n\\n1) Slim Dow...</td>\n",
       "      <td>1</td>\n",
       "      <td>00005.57696a39d7d84318ce497886896bf90d</td>\n",
       "    </tr>\n",
       "  </tbody>\n",
       "</table>\n",
       "</div>"
      ],
      "text/plain": [
       "                                                  MESSAGE  CATEGORY  \\\n",
       "DOC_ID                                                                \n",
       "0       <!DOCTYPE HTML PUBLIC \"-//W3C//DTD HTML 4.0 Tr...         1   \n",
       "1       1) Fight The Risk of Cancer!\\n\\nhttp://www.adc...         1   \n",
       "2       1) Fight The Risk of Cancer!\\n\\nhttp://www.adc...         1   \n",
       "3       ##############################################...         1   \n",
       "4       I thought you might like these:\\n\\n1) Slim Dow...         1   \n",
       "\n",
       "                                     FILE_NAME  \n",
       "DOC_ID                                          \n",
       "0       00001.7848dde101aa985090474a91ec93fcf0  \n",
       "1       00002.d94f1b97e48ed3b553b3508d116e6a09  \n",
       "2       00003.2ee33bc6eacdb11f38d052c44819ba6c  \n",
       "3       00004.eac8de8d759b7e74154f142194282724  \n",
       "4       00005.57696a39d7d84318ce497886896bf90d  "
      ]
     },
     "execution_count": 18,
     "metadata": {},
     "output_type": "execute_result"
    }
   ],
   "source": [
    "data['FILE_NAME'] = data.index\n",
    "data = data.set_index('DOC_ID')\n",
    "data.head()"
   ]
  },
  {
   "cell_type": "markdown",
   "metadata": {},
   "source": [
    "# Save to File using Pandas"
   ]
  },
  {
   "cell_type": "code",
   "execution_count": 19,
   "metadata": {},
   "outputs": [],
   "source": [
    "data.to_json(DATA_JSON_FILE)"
   ]
  },
  {
   "cell_type": "markdown",
   "metadata": {},
   "source": [
    "# Number of Spam Messages visualised (Pie charts)"
   ]
  },
  {
   "cell_type": "code",
   "execution_count": 20,
   "metadata": {},
   "outputs": [],
   "source": [
    "data['CATEGORY'].value_counts()\n",
    "amount_of_spam = data['CATEGORY'].value_counts()[1]\n",
    "amount_of_ham = data['CATEGORY'].value_counts()[0]"
   ]
  },
  {
   "cell_type": "code",
   "execution_count": null,
   "metadata": {},
   "outputs": [],
   "source": []
  },
  {
   "cell_type": "code",
   "execution_count": 21,
   "metadata": {},
   "outputs": [
    {
     "data": {
      "text/plain": [
       "3900"
      ]
     },
     "execution_count": 21,
     "metadata": {},
     "output_type": "execute_result"
    }
   ],
   "source": [
    "(data['CATEGORY']==HAM_CAT).sum()"
   ]
  },
  {
   "cell_type": "code",
   "execution_count": 22,
   "metadata": {},
   "outputs": [],
   "source": [
    "sizes = [(data['CATEGORY']==SPAM_CAT).count(), (data['CATEGORY']==HAM_CAT).count()]"
   ]
  },
  {
   "cell_type": "code",
   "execution_count": 23,
   "metadata": {},
   "outputs": [
    {
     "data": {
      "image/png": "[encoded data removed]",
      "text/plain": [
       "<Figure size 500x500 with 1 Axes>"
      ]
     },
     "metadata": {},
     "output_type": "display_data"
    }
   ],
   "source": [
    "labels = ['Spam', 'Legit Mail']\n",
    "# sizes = [(data['CATEGORY']==SPAM_CAT).sum(), (data['CATEGORY']==HAM_CAT).sum()]\n",
    "sizes = [amount_of_spam, amount_of_ham]\n",
    "# colors = ['gold', 'yellowgreen']\n",
    "custom_colors = ['#ff7675','#74b9ff']\n",
    "explode = (0.1, 0)  # explode 1st slice\n",
    "\n",
    "# Plot\n",
    "plt.figure(figsize=(5,5), dpi=100)\n",
    "plt.pie(sizes,labels=labels,explode=explode, textprops={'fontsize':16},\n",
    "        colors=custom_colors, autopct='%1.0f%%', startangle=-25)\n",
    "\n",
    "plt.axis('equal')\n",
    "plt.show()"
   ]
  },
  {
   "cell_type": "code",
   "execution_count": 24,
   "metadata": {},
   "outputs": [
    {
     "data": {
      "image/png": "[encoded data removed]",
      "text/plain": [
       "<Figure size 500x500 with 1 Axes>"
      ]
     },
     "metadata": {},
     "output_type": "display_data"
    }
   ],
   "source": [
    "# Donut chart\n",
    "labels = ['Spam', 'Legit Mail']\n",
    "# sizes = [(data['CATEGORY']==SPAM_CAT).sum(), (data['CATEGORY']==HAM_CAT).sum()]\n",
    "sizes = [amount_of_spam, amount_of_ham]\n",
    "# colors = ['gold', 'yellowgreen']\n",
    "custom_colors = ['#ff7675','#74b9ff']\n",
    "explode = (0.1, 0)  # explode 1st slice\n",
    "\n",
    "# Plot\n",
    "plt.figure(figsize=(5,5), dpi=100)\n",
    "plt.pie(sizes,labels=labels,textprops={'fontsize':16},\n",
    "        colors=custom_colors, autopct='%1.0f%%', pctdistance=0.8, startangle=-25)\n",
    "\n",
    "centre_circle = plt.Circle((0,0), radius=0.6, fc='white')\n",
    "plt.gca().add_artist(centre_circle)\n",
    "\n",
    "plt.axis('equal')\n",
    "plt.show()"
   ]
  },
  {
   "cell_type": "code",
   "execution_count": 25,
   "metadata": {},
   "outputs": [
    {
     "data": {
      "image/png": "[encoded data removed]",
      "text/plain": [
       "<Figure size 500x500 with 1 Axes>"
      ]
     },
     "metadata": {},
     "output_type": "display_data"
    }
   ],
   "source": [
    "# Donut chart\n",
    "labels = ['Spam', 'Legit Mail', 'Updates', 'Promotions']\n",
    "# sizes = [(data['CATEGORY']==SPAM_CAT).sum(), (data['CATEGORY']==HAM_CAT).sum()]\n",
    "sizes = [25,43,10,22]\n",
    "# colors = ['gold', 'yellowgreen']\n",
    "custom_colors = ['#ff7675','#74b9ff','#55efc4','#ffeaa7']\n",
    "explode = (0.025,0.025,0.025,0.025)  # explode 1st slice\n",
    "\n",
    "# Plot\n",
    "plt.figure(figsize=(5,5), dpi=100)\n",
    "plt.pie(sizes,labels=labels,explode=explode,textprops={'fontsize':16},\n",
    "        colors=custom_colors, autopct='%1.0f%%', pctdistance=0.8, startangle=90)\n",
    "\n",
    "centre_circle = plt.Circle((0,0), radius=0.6, fc='white')\n",
    "plt.gca().add_artist(centre_circle)\n",
    "\n",
    "plt.axis('equal')\n",
    "plt.show()"
   ]
  },
  {
   "cell_type": "markdown",
   "metadata": {},
   "source": [
    "# Natural Language Processing"
   ]
  },
  {
   "cell_type": "markdown",
   "metadata": {},
   "source": [
    "## Text Pre-Processing"
   ]
  },
  {
   "cell_type": "markdown",
   "metadata": {},
   "source": [
    "### Download NLTK Resources (Tokenizer and Stop words)"
   ]
  },
  {
   "cell_type": "code",
   "execution_count": 26,
   "metadata": {},
   "outputs": [
    {
     "name": "stderr",
     "output_type": "stream",
     "text": [
      "[nltk_data] Downloading package punkt to C:\\Users\\Gagan\n",
      "[nltk_data]     Arora\\AppData\\Roaming\\nltk_data...\n",
      "[nltk_data]   Package punkt is already up-to-date!\n"
     ]
    },
    {
     "data": {
      "text/plain": [
       "True"
      ]
     },
     "execution_count": 26,
     "metadata": {},
     "output_type": "execute_result"
    }
   ],
   "source": [
    "nltk.download('punkt')"
   ]
  },
  {
   "cell_type": "code",
   "execution_count": 27,
   "metadata": {},
   "outputs": [
    {
     "name": "stderr",
     "output_type": "stream",
     "text": [
      "[nltk_data] Downloading package stopwords to C:\\Users\\Gagan\n",
      "[nltk_data]     Arora\\AppData\\Roaming\\nltk_data...\n",
      "[nltk_data]   Package stopwords is already up-to-date!\n"
     ]
    },
    {
     "data": {
      "text/plain": [
       "True"
      ]
     },
     "execution_count": 27,
     "metadata": {},
     "output_type": "execute_result"
    }
   ],
   "source": [
    "nltk.download('stopwords')"
   ]
  },
  {
   "cell_type": "markdown",
   "metadata": {},
   "source": [
    "### Tokenizing"
   ]
  },
  {
   "cell_type": "code",
   "execution_count": 28,
   "metadata": {},
   "outputs": [
    {
     "data": {
      "text/plain": [
       "['all',\n",
       " 'work',\n",
       " 'and',\n",
       " 'no',\n",
       " 'play',\n",
       " 'makes',\n",
       " 'jack',\n",
       " 'a',\n",
       " 'dull',\n",
       " 'boy',\n",
       " '.',\n",
       " 'to',\n",
       " 'be',\n",
       " 'or',\n",
       " 'not',\n",
       " 'to',\n",
       " 'be',\n",
       " '.',\n",
       " 'nobody',\n",
       " 'expects',\n",
       " 'the',\n",
       " 'spanish',\n",
       " 'inquisition',\n",
       " '!']"
      ]
     },
     "execution_count": 28,
     "metadata": {},
     "output_type": "execute_result"
    }
   ],
   "source": [
    "example_msg = \"All work and no play makes Jack a dull boy. To be or not to be. \\\n",
    "               Nobody expects the Spanish Inquisition!\"\n",
    "word_tokenize(example_msg.lower())"
   ]
  },
  {
   "cell_type": "markdown",
   "metadata": {},
   "source": [
    "### Removing Stop Words"
   ]
  },
  {
   "cell_type": "code",
   "execution_count": 29,
   "metadata": {},
   "outputs": [],
   "source": [
    "stop_words = set(stopwords.words('english'))"
   ]
  },
  {
   "cell_type": "code",
   "execution_count": 30,
   "metadata": {},
   "outputs": [
    {
     "name": "stdout",
     "output_type": "stream",
     "text": [
      "Found it!\n"
     ]
    }
   ],
   "source": [
    "if 'in' in stop_words:\n",
    "    print('Found it!')"
   ]
  },
  {
   "cell_type": "code",
   "execution_count": 31,
   "metadata": {},
   "outputs": [
    {
     "data": {
      "text/plain": [
       "['work',\n",
       " 'play',\n",
       " 'makes',\n",
       " 'jack',\n",
       " 'dull',\n",
       " 'boy',\n",
       " '.',\n",
       " '.',\n",
       " 'nobody',\n",
       " 'expects',\n",
       " 'spanish',\n",
       " 'inquisition',\n",
       " '!']"
      ]
     },
     "execution_count": 31,
     "metadata": {},
     "output_type": "execute_result"
    }
   ],
   "source": [
    "words = word_tokenize(example_msg.lower())\n",
    "\n",
    "filtered_words = []\n",
    "for word in words:\n",
    "    if word not in stop_words:\n",
    "        filtered_words.append(word)\n",
    "        \n",
    "filtered_words\n",
    "\n"
   ]
  },
  {
   "cell_type": "markdown",
   "metadata": {},
   "source": [
    "### Word Stems and Stemming"
   ]
  },
  {
   "cell_type": "code",
   "execution_count": 32,
   "metadata": {},
   "outputs": [
    {
     "data": {
      "text/plain": [
       "['work',\n",
       " 'play',\n",
       " 'make',\n",
       " 'jack',\n",
       " 'dull',\n",
       " 'boy',\n",
       " '.',\n",
       " '.',\n",
       " 'nobodi',\n",
       " 'expect',\n",
       " 'spanish',\n",
       " 'inquisit',\n",
       " '!']"
      ]
     },
     "execution_count": 32,
     "metadata": {},
     "output_type": "execute_result"
    }
   ],
   "source": [
    "words = word_tokenize(example_msg.lower())\n",
    "stemmer = PorterStemmer()\n",
    "\n",
    "filtered_words = []\n",
    "for word in words:\n",
    "    if word not in stop_words:\n",
    "        stemmed_word = stemmer.stem(word)\n",
    "        filtered_words.append(stemmed_word)\n",
    "filtered_words"
   ]
  },
  {
   "cell_type": "markdown",
   "metadata": {},
   "source": [
    "### Removing Punctuation"
   ]
  },
  {
   "cell_type": "code",
   "execution_count": 33,
   "metadata": {},
   "outputs": [
    {
     "data": {
      "text/plain": [
       "['work',\n",
       " 'play',\n",
       " 'make',\n",
       " 'jack',\n",
       " 'dull',\n",
       " 'boy',\n",
       " 'nobodi',\n",
       " 'expect',\n",
       " 'spanish',\n",
       " 'inquisit']"
      ]
     },
     "execution_count": 33,
     "metadata": {},
     "output_type": "execute_result"
    }
   ],
   "source": [
    "words = word_tokenize(example_msg.lower())\n",
    "stemmer = PorterStemmer()\n",
    "\n",
    "filtered_words = []\n",
    "for word in words:\n",
    "    if word not in stop_words and word.isalpha():\n",
    "        stemmed_word = stemmer.stem(word)\n",
    "        filtered_words.append(stemmed_word)\n",
    "filtered_words"
   ]
  },
  {
   "cell_type": "markdown",
   "metadata": {},
   "source": [
    "### Removing HTML tags from email"
   ]
  },
  {
   "cell_type": "code",
   "execution_count": 34,
   "metadata": {},
   "outputs": [
    {
     "data": {
      "text/plain": [
       "'<HTML><HEAD><TITLE>FREE Motorola Cell Phone with $50 Cash Back!</TITLE>\\n\\n<STYLE></STYLE>\\n\\n</HEAD>\\n\\n<BODY bgColor=#ffffff>\\n\\n<TABLE align=\"center\" border=0 cellPadding=0 cellSpacing=0 width=450>\\n\\n  <TBODY>\\n\\n  <TR>\\n\\n    <TD><IMG height=1 src=\"images/spacer.gif\" width=185></TD>\\n\\n    <TD><IMG height=1 src=\"images/spacer.gif\" width=65></TD>\\n\\n    <TD><IMG height=1 src=\"images/spacer.gif\" width=50></TD>\\n\\n    <TD><IMG height=1 src=\"images/spacer.gif\" width=150></TD></TR>\\n\\n  <TR>\\n\\n    <TD colSpan=2 rowSpan=2><A href=\"http://theadmanager.com/server/c.asp?ad_key=QBFUIEXORXKL&ext=1\"><IMG border=0\\n\\n      height=150\\n\\n      src=\"http://168.143.181.42/htmlemails/images/T193no_option_01.gif\"\\n\\n      width=250></A></TD>\\n\\n    <TD rowSpan=2><A href=\"http://theadmanager.com/server/c.asp?ad_key=QBFUIEXORXKL&ext=1\"><IMG border=0\\n\\n      height=150\\n\\n      src=\"http://168.143.181.42/htmlemails/images/T193no_option_02.gif\"\\n\\n      width=50></A></TD>\\n\\n    <TD><A href=\"http://theadmanager.com/server/c.asp?ad_key=QBFUIEXORXKL&ext=1\"><IMG border=0 height=100\\n\\n      src=\"http://168.143.181.42/htmlemails/images/T193no_option_03.gif\"\\n\\n      width=150></A></TD></TR>\\n\\n  <TR>\\n\\n    <TD><A href=\"http://theadmanager.com/server/c.asp?ad_key=QBFUIEXORXKL&ext=1\"><IMG border=0 height=50\\n\\n      src=\"http://168.143.181.42/htmlemails/images/T193no_option_04.gif\"\\n\\n      width=150></A></TD></TR>\\n\\n  <TR>\\n\\n    <TD><A href=\"http://theadmanager.com/server/c.asp?ad_key=QBFUIEXORXKL&ext=1\"><IMG border=0 height=66\\n\\n      src=\"http://168.143.181.42/htmlemails/images/T193no_option_05.gif\"\\n\\n      width=185></A></TD>\\n\\n    <TD colSpan=2><A href=\"http://theadmanager.com/server/c.asp?ad_key=QBFUIEXORXKL&ext=1\"><IMG border=0 height=66\\n\\n      src=\"http://168.143.181.42/htmlemails/images/T193no_option_06.gif\"\\n\\n      width=115></A></TD>\\n\\n    <TD><A href=\"http://theadmanager.com/server/c.asp?ad_key=QBFUIEXORXKL&ext=1\"><IMG border=0 height=66\\n\\n      src=\"http://168.143.181.42/htmlemails/images/T193no_option_07.gif\"\\n\\n      width=150></A></TD></TR>\\n\\n  <TR>\\n\\n    <TD rowSpan=2><A href=\"http://theadmanager.com/server/c.asp?ad_key=QBFUIEXORXKL&ext=1\"><IMG border=0\\n\\n      height=154\\n\\n      src=\"http://168.143.181.42/htmlemails/images/T193no_option_08.gif\"\\n\\n      width=185></A></TD>\\n\\n    <TD colSpan=2><A href=\"http://theadmanager.com/server/c.asp?ad_key=QBFUIEXORXKL&ext=1\"><IMG border=0 height=72\\n\\n      src=\"http://168.143.181.42/htmlemails/images/T193no_option_09.gif\"\\n\\n      width=115></A></TD>\\n\\n    <TD><A href=\"http://theadmanager.com/server/c.asp?ad_key=QBFUIEXORXKL&ext=1\"><IMG border=0 height=72\\n\\n      src=\"http://168.143.181.42/htmlemails/images/T193no_option_10.gif\"\\n\\n      width=150></A></TD></TR>\\n\\n  <TR>\\n\\n    <TD colSpan=2><A href=\"http://theadmanager.com/server/c.asp?ad_key=QBFUIEXORXKL&ext=1\"><IMG border=0 height=82\\n\\n      src=\"http://168.143.181.42/htmlemails/images/T193no_option_11.gif\"\\n\\n      width=115></A></TD>\\n\\n    <TD><A href=\"http://theadmanager.com/server/c.asp?ad_key=QBFUIEXORXKL&ext=1\"><IMG border=0 height=82\\n\\n      src=\"http://168.143.181.42/htmlemails/images/T193no_option_12.gif\"\\n\\n      width=150></A></TD></TR>\\n\\n  <TR>\\n\\n    <TD><A href=\"http://theadmanager.com/server/c.asp?ad_key=QBFUIEXORXKL&ext=1\"><IMG border=0 height=80\\n\\n      src=\"http://168.143.181.42/htmlemails/images/T193no_option_13.gif\"\\n\\n      width=185></A></TD>\\n\\n    <TD colSpan=3><A href=\"http://theadmanager.com/server/c.asp?ad_key=QBFUIEXORXKL&ext=1\"><IMG border=0 height=80\\n\\n      src=\"http://168.143.181.42/htmlemails/images/T193no_option_14.gif\"\\n\\n      width=265></A></TD></TR></TBODY></TABLE>\\n\\n<TABLE align=\"center\" width=450>\\n\\n  <TBODY>\\n\\n  <TR>\\n\\n    <TD vAlign=top><A href=\"http://theadmanager.com/server/c.asp?ad_key=QBFUIEXORXKL&ext=1\"><IMG\\n\\n      alt=SimplyWireless.com border=0 height=59 hspace=10\\n\\n      src=\"http://168.143.181.42/htmlemails/images/swdotcomlogo1.gif\"\\n\\n      width=200></A></TD>\\n\\n    <TD align=left vAlign=top width=273><FONT face=Arial size=-3>*Free phone\\n\\n      offer subject to VoiceStream Wireless credit approval. Must activate a new\\n\\n      line of service to receive a free phone. A one-time activation fee of $25\\n\\n      applies to all new activations. Coverage not available in all areas. Offer\\n\\n      fulfilled by SimplyWireless.com, a VoiceStream authorized dealer. See site\\n\\n      for additional offer details.\\n\\n      <P></P>**$50 mail-in rebate is available for new VoiceStream service plans\\n\\n      $29.99 and greater. Rebate ends\\n\\n8/31/02.</FONT></TD></FONT></TD></TR></TBODY></TABLE>\\n\\n<img src=\"http://admanmail.com/server/t.asp?ad_key=QBFUIEXORXKL\" width=\"1\" height=\"1\" hspace=\"0\" vspace=\"0\" border=\"0\" alt=\"T\">\\n\\n<hr size=\"1\" noshade>\\n\\n<font face=\"Arial\" size=\"1\" color=\"#000000\">\\n\\nYou are receiving this mailing because you are a\\n\\nmember of SendGreatOffers.com and subscribed as:JM@NETNOTEINC.COM\\n\\nTo unsubscribe <a href=\"http://admanmail.com/subscription.asp?em=JM@NETNOTEINC.COM&l=SGO\">\\n\\n<font face=\"arial\" size=\"1\" color=\"#000000\">Click Here</a>\\n\\n(http://admanmail.com/subscription.asp?em=JM@NETNOTEINC.COM&l=SGO)\\n\\nor reply to this email with REMOVE in the subject line - you must\\n\\nalso include the body of this message to be unsubscribed. Any correspondence about\\n\\nthe products/services should be directed to\\n\\nthe company in the ad.\\n\\n%EM%JM@NETNOTEINC.COM%/EM%\\n\\n<BR></FONT> </body> </html>\\n\\n\\n'"
      ]
     },
     "execution_count": 34,
     "metadata": {},
     "output_type": "execute_result"
    }
   ],
   "source": [
    "data.at[13,'MESSAGE']"
   ]
  },
  {
   "cell_type": "code",
   "execution_count": 35,
   "metadata": {
    "collapsed": true
   },
   "outputs": [
    {
     "name": "stdout",
     "output_type": "stream",
     "text": [
      "<bound method Tag.prettify of <html><head><title>FREE Motorola Cell Phone with $50 Cash Back!</title>\n",
      "<style></style>\n",
      "</head>\n",
      "<body bgcolor=\"#ffffff\">\n",
      "<table align=\"center\" border=\"0\" cellpadding=\"0\" cellspacing=\"0\" width=\"450\">\n",
      "<tbody>\n",
      "<tr>\n",
      "<td><img height=\"1\" src=\"images/spacer.gif\" width=\"185\"/></td>\n",
      "<td><img height=\"1\" src=\"images/spacer.gif\" width=\"65\"/></td>\n",
      "<td><img height=\"1\" src=\"images/spacer.gif\" width=\"50\"/></td>\n",
      "<td><img height=\"1\" src=\"images/spacer.gif\" width=\"150\"/></td></tr>\n",
      "<tr>\n",
      "<td colspan=\"2\" rowspan=\"2\"><a href=\"http://theadmanager.com/server/c.asp?ad_key=QBFUIEXORXKL&amp;ext=1\"><img border=\"0\" height=\"150\" src=\"http://168.143.181.42/htmlemails/images/T193no_option_01.gif\" width=\"250\"/></a></td>\n",
      "<td rowspan=\"2\"><a href=\"http://theadmanager.com/server/c.asp?ad_key=QBFUIEXORXKL&amp;ext=1\"><img border=\"0\" height=\"150\" src=\"http://168.143.181.42/htmlemails/images/T193no_option_02.gif\" width=\"50\"/></a></td>\n",
      "<td><a href=\"http://theadmanager.com/server/c.asp?ad_key=QBFUIEXORXKL&amp;ext=1\"><img border=\"0\" height=\"100\" src=\"http://168.143.181.42/htmlemails/images/T193no_option_03.gif\" width=\"150\"/></a></td></tr>\n",
      "<tr>\n",
      "<td><a href=\"http://theadmanager.com/server/c.asp?ad_key=QBFUIEXORXKL&amp;ext=1\"><img border=\"0\" height=\"50\" src=\"http://168.143.181.42/htmlemails/images/T193no_option_04.gif\" width=\"150\"/></a></td></tr>\n",
      "<tr>\n",
      "<td><a href=\"http://theadmanager.com/server/c.asp?ad_key=QBFUIEXORXKL&amp;ext=1\"><img border=\"0\" height=\"66\" src=\"http://168.143.181.42/htmlemails/images/T193no_option_05.gif\" width=\"185\"/></a></td>\n",
      "<td colspan=\"2\"><a href=\"http://theadmanager.com/server/c.asp?ad_key=QBFUIEXORXKL&amp;ext=1\"><img border=\"0\" height=\"66\" src=\"http://168.143.181.42/htmlemails/images/T193no_option_06.gif\" width=\"115\"/></a></td>\n",
      "<td><a href=\"http://theadmanager.com/server/c.asp?ad_key=QBFUIEXORXKL&amp;ext=1\"><img border=\"0\" height=\"66\" src=\"http://168.143.181.42/htmlemails/images/T193no_option_07.gif\" width=\"150\"/></a></td></tr>\n",
      "<tr>\n",
      "<td rowspan=\"2\"><a href=\"http://theadmanager.com/server/c.asp?ad_key=QBFUIEXORXKL&amp;ext=1\"><img border=\"0\" height=\"154\" src=\"http://168.143.181.42/htmlemails/images/T193no_option_08.gif\" width=\"185\"/></a></td>\n",
      "<td colspan=\"2\"><a href=\"http://theadmanager.com/server/c.asp?ad_key=QBFUIEXORXKL&amp;ext=1\"><img border=\"0\" height=\"72\" src=\"http://168.143.181.42/htmlemails/images/T193no_option_09.gif\" width=\"115\"/></a></td>\n",
      "<td><a href=\"http://theadmanager.com/server/c.asp?ad_key=QBFUIEXORXKL&amp;ext=1\"><img border=\"0\" height=\"72\" src=\"http://168.143.181.42/htmlemails/images/T193no_option_10.gif\" width=\"150\"/></a></td></tr>\n",
      "<tr>\n",
      "<td colspan=\"2\"><a href=\"http://theadmanager.com/server/c.asp?ad_key=QBFUIEXORXKL&amp;ext=1\"><img border=\"0\" height=\"82\" src=\"http://168.143.181.42/htmlemails/images/T193no_option_11.gif\" width=\"115\"/></a></td>\n",
      "<td><a href=\"http://theadmanager.com/server/c.asp?ad_key=QBFUIEXORXKL&amp;ext=1\"><img border=\"0\" height=\"82\" src=\"http://168.143.181.42/htmlemails/images/T193no_option_12.gif\" width=\"150\"/></a></td></tr>\n",
      "<tr>\n",
      "<td><a href=\"http://theadmanager.com/server/c.asp?ad_key=QBFUIEXORXKL&amp;ext=1\"><img border=\"0\" height=\"80\" src=\"http://168.143.181.42/htmlemails/images/T193no_option_13.gif\" width=\"185\"/></a></td>\n",
      "<td colspan=\"3\"><a href=\"http://theadmanager.com/server/c.asp?ad_key=QBFUIEXORXKL&amp;ext=1\"><img border=\"0\" height=\"80\" src=\"http://168.143.181.42/htmlemails/images/T193no_option_14.gif\" width=\"265\"/></a></td></tr></tbody></table>\n",
      "<table align=\"center\" width=\"450\">\n",
      "<tbody>\n",
      "<tr>\n",
      "<td valign=\"top\"><a href=\"http://theadmanager.com/server/c.asp?ad_key=QBFUIEXORXKL&amp;ext=1\"><img alt=\"SimplyWireless.com\" border=\"0\" height=\"59\" hspace=\"10\" src=\"http://168.143.181.42/htmlemails/images/swdotcomlogo1.gif\" width=\"200\"/></a></td>\n",
      "<td align=\"left\" valign=\"top\" width=\"273\"><font face=\"Arial\" size=\"-3\">*Free phone\n",
      "\n",
      "      offer subject to VoiceStream Wireless credit approval. Must activate a new\n",
      "\n",
      "      line of service to receive a free phone. A one-time activation fee of $25\n",
      "\n",
      "      applies to all new activations. Coverage not available in all areas. Offer\n",
      "\n",
      "      fulfilled by SimplyWireless.com, a VoiceStream authorized dealer. See site\n",
      "\n",
      "      for additional offer details.\n",
      "\n",
      "      <p></p>**$50 mail-in rebate is available for new VoiceStream service plans\n",
      "\n",
      "      $29.99 and greater. Rebate ends\n",
      "\n",
      "8/31/02.</font></td></tr></tbody></table></body></html>\n",
      "<img alt=\"T\" border=\"0\" height=\"1\" hspace=\"0\" src=\"http://admanmail.com/server/t.asp?ad_key=QBFUIEXORXKL\" vspace=\"0\" width=\"1\"/>\n",
      "<hr noshade=\"\" size=\"1\"/>\n",
      "<font color=\"#000000\" face=\"Arial\" size=\"1\">\n",
      "\n",
      "You are receiving this mailing because you are a\n",
      "\n",
      "member of SendGreatOffers.com and subscribed as:JM@NETNOTEINC.COM\n",
      "\n",
      "To unsubscribe <a href=\"http://admanmail.com/subscription.asp?em=JM@NETNOTEINC.COM&amp;l=SGO\">\n",
      "<font color=\"#000000\" face=\"arial\" size=\"1\">Click Here</font></a>\n",
      "\n",
      "(http://admanmail.com/subscription.asp?em=JM@NETNOTEINC.COM&amp;l=SGO)\n",
      "\n",
      "or reply to this email with REMOVE in the subject line - you must\n",
      "\n",
      "also include the body of this message to be unsubscribed. Any correspondence about\n",
      "\n",
      "the products/services should be directed to\n",
      "\n",
      "the company in the ad.\n",
      "\n",
      "%EM%JM@NETNOTEINC.COM%/EM%\n",
      "\n",
      "<br/></font>  \n",
      ">\n"
     ]
    }
   ],
   "source": [
    "soup = BeautifulSoup(data.at[13,'MESSAGE'], 'html.parser')\n",
    "print(soup.prettify)"
   ]
  },
  {
   "cell_type": "code",
   "execution_count": 36,
   "metadata": {},
   "outputs": [
    {
     "data": {
      "text/plain": [
       "'FREE Motorola Cell Phone with $50 Cash Back!\\n\\n\\n\\n\\n\\n\\n\\n\\n\\n\\n\\n\\n\\n\\n\\n\\n\\n\\n\\n\\n\\n\\n\\n\\n\\n\\n\\n\\n\\n\\n\\n\\n\\n\\n*Free phone\\n\\n      offer subject to VoiceStream Wireless credit approval. Must activate a new\\n\\n      line of service to receive a free phone. A one-time activation fee of $25\\n\\n      applies to all new activations. Coverage not available in all areas. Offer\\n\\n      fulfilled by SimplyWireless.com, a VoiceStream authorized dealer. See site\\n\\n      for additional offer details.\\n\\n      **$50 mail-in rebate is available for new VoiceStream service plans\\n\\n      $29.99 and greater. Rebate ends\\n\\n8/31/02.\\n\\n\\n\\n\\nYou are receiving this mailing because you are a\\n\\nmember of SendGreatOffers.com and subscribed as:JM@NETNOTEINC.COM\\n\\nTo unsubscribe \\nClick Here\\n\\n(http://admanmail.com/subscription.asp?em=JM@NETNOTEINC.COM&l=SGO)\\n\\nor reply to this email with REMOVE in the subject line - you must\\n\\nalso include the body of this message to be unsubscribed. Any correspondence about\\n\\nthe products/services should be directed to\\n\\nthe company in the ad.\\n\\n%EM%JM@NETNOTEINC.COM%/EM%\\n\\n  \\n'"
      ]
     },
     "execution_count": 36,
     "metadata": {},
     "output_type": "execute_result"
    }
   ],
   "source": [
    "soup.get_text()"
   ]
  },
  {
   "cell_type": "markdown",
   "metadata": {},
   "source": [
    "### Functions for Email Processing"
   ]
  },
  {
   "cell_type": "code",
   "execution_count": 37,
   "metadata": {},
   "outputs": [],
   "source": [
    "def clean_message(message, stemmer=PorterStemmer(),\n",
    "                  stop_words=set(stopwords.words('english'))):\n",
    "    # Converts to lower case and splits up the words\n",
    "    words = word_tokenize(message.lower())\n",
    "    filtered_words = []\n",
    "    for word in words:\n",
    "        # Removes the stop words and punctuation\n",
    "        if word not in stop_words and word.isalpha():\n",
    "            stemmed_word = stemmer.stem(word)\n",
    "            filtered_words.append(stemmed_word)\n",
    "    return filtered_words"
   ]
  },
  {
   "cell_type": "code",
   "execution_count": 38,
   "metadata": {
    "collapsed": true
   },
   "outputs": [
    {
     "data": {
      "text/plain": [
       "['dear',\n",
       " 'mr',\n",
       " 'still',\n",
       " 'good',\n",
       " 'tide',\n",
       " 'staff',\n",
       " 'festiv',\n",
       " 'season',\n",
       " 'ahead',\n",
       " 'christma',\n",
       " 'crux',\n",
       " 'fulli',\n",
       " 'qualifi',\n",
       " 'santa',\n",
       " 'clau',\n",
       " 'wonder',\n",
       " 'whether',\n",
       " 'might',\n",
       " 'consid',\n",
       " 'run',\n",
       " 'santa',\n",
       " 'grotto',\n",
       " 'store',\n",
       " 'wait',\n",
       " 'probabl',\n",
       " 'think',\n",
       " 'make',\n",
       " 'special',\n",
       " 'well',\n",
       " 'first',\n",
       " 'made',\n",
       " 'sever',\n",
       " 'chang',\n",
       " 'characteris',\n",
       " 'father',\n",
       " 'christma',\n",
       " 'rather',\n",
       " 'greet',\n",
       " 'children',\n",
       " 'shout',\n",
       " 'ho',\n",
       " 'ho',\n",
       " 'ho',\n",
       " 'prefer',\n",
       " 'whisper',\n",
       " 'phrase',\n",
       " 'depend',\n",
       " 'unfathom',\n",
       " 'cruel',\n",
       " 'world',\n",
       " 'live',\n",
       " 'addit',\n",
       " 'gift',\n",
       " 'rang',\n",
       " 'felt',\n",
       " 'hoop',\n",
       " 'holder',\n",
       " 'note',\n",
       " 'also',\n",
       " 'enclos',\n",
       " 'sketch',\n",
       " 'radic',\n",
       " 'redesign',\n",
       " 'santa',\n",
       " 'outfit',\n",
       " 'renam',\n",
       " 'charact',\n",
       " 'lord',\n",
       " 'buckl',\n",
       " 'would',\n",
       " 'interest',\n",
       " 'employ',\n",
       " 'promis',\n",
       " 'never',\n",
       " 'let',\n",
       " 'look',\n",
       " 'forward',\n",
       " 'hear',\n",
       " 'best',\n",
       " 'wish',\n",
       " 'robin',\n",
       " 'cooper',\n",
       " 'excerpt',\n",
       " 'book',\n",
       " 'timewast',\n",
       " 'letter',\n",
       " 'robin',\n",
       " 'cooper']"
      ]
     },
     "execution_count": 38,
     "metadata": {},
     "output_type": "execute_result"
    }
   ],
   "source": [
    "clean_message(email_body)"
   ]
  },
  {
   "cell_type": "code",
   "execution_count": 39,
   "metadata": {},
   "outputs": [],
   "source": [
    "def clean_message_no_html(message, stemmer=PorterStemmer(),\n",
    "                  stop_words=set(stopwords.words('english'))):\n",
    "    \n",
    "    # Remove HTML Tags\n",
    "    soup = BeautifulSoup(message,'html.parser')\n",
    "    cleaned_text = soup.get_text()\n",
    "    \n",
    "    # Converts to lower case and splits up the words\n",
    "    words = word_tokenize(cleaned_text.lower())\n",
    "    filtered_words = []\n",
    "    for word in words:\n",
    "        # Removes the stop words and punctuation\n",
    "        if word not in stop_words and word.isalpha():\n",
    "            stemmed_word = stemmer.stem(word)\n",
    "            filtered_words.append(stemmed_word)\n",
    "    return filtered_words"
   ]
  },
  {
   "cell_type": "code",
   "execution_count": 40,
   "metadata": {
    "collapsed": true
   },
   "outputs": [
    {
     "data": {
      "text/plain": [
       "['dear',\n",
       " 'mr',\n",
       " 'still',\n",
       " 'good',\n",
       " 'tide',\n",
       " 'staff',\n",
       " 'festiv',\n",
       " 'season',\n",
       " 'ahead',\n",
       " 'christma',\n",
       " 'crux',\n",
       " 'fulli',\n",
       " 'qualifi',\n",
       " 'santa',\n",
       " 'clau',\n",
       " 'wonder',\n",
       " 'whether',\n",
       " 'might',\n",
       " 'consid',\n",
       " 'run',\n",
       " 'santa',\n",
       " 'grotto',\n",
       " 'store',\n",
       " 'wait',\n",
       " 'probabl',\n",
       " 'think',\n",
       " 'make',\n",
       " 'special',\n",
       " 'well',\n",
       " 'first',\n",
       " 'made',\n",
       " 'sever',\n",
       " 'chang',\n",
       " 'characteris',\n",
       " 'father',\n",
       " 'christma',\n",
       " 'rather',\n",
       " 'greet',\n",
       " 'children',\n",
       " 'shout',\n",
       " 'ho',\n",
       " 'ho',\n",
       " 'ho',\n",
       " 'prefer',\n",
       " 'whisper',\n",
       " 'phrase',\n",
       " 'depend',\n",
       " 'unfathom',\n",
       " 'cruel',\n",
       " 'world',\n",
       " 'live',\n",
       " 'addit',\n",
       " 'gift',\n",
       " 'rang',\n",
       " 'felt',\n",
       " 'hoop',\n",
       " 'holder',\n",
       " 'note',\n",
       " 'also',\n",
       " 'enclos',\n",
       " 'sketch',\n",
       " 'radic',\n",
       " 'redesign',\n",
       " 'santa',\n",
       " 'outfit',\n",
       " 'renam',\n",
       " 'charact',\n",
       " 'lord',\n",
       " 'buckl',\n",
       " 'would',\n",
       " 'interest',\n",
       " 'employ',\n",
       " 'promis',\n",
       " 'never',\n",
       " 'let',\n",
       " 'look',\n",
       " 'forward',\n",
       " 'hear',\n",
       " 'best',\n",
       " 'wish',\n",
       " 'robin',\n",
       " 'cooper',\n",
       " 'excerpt',\n",
       " 'book',\n",
       " 'timewast',\n",
       " 'letter',\n",
       " 'robin',\n",
       " 'cooper']"
      ]
     },
     "execution_count": 40,
     "metadata": {},
     "output_type": "execute_result"
    }
   ],
   "source": [
    "clean_message_no_html(email_body)"
   ]
  },
  {
   "cell_type": "code",
   "execution_count": 55,
   "metadata": {},
   "outputs": [
    {
     "data": {
      "text/plain": [
       "DOC_ID\n",
       "0    <!DOCTYPE HTML PUBLIC \"-//W3C//DTD HTML 4.0 Tr...\n",
       "1    1) Fight The Risk of Cancer!\\n\\nhttp://www.adc...\n",
       "2    1) Fight The Risk of Cancer!\\n\\nhttp://www.adc...\n",
       "Name: MESSAGE, dtype: object"
      ]
     },
     "execution_count": 55,
     "metadata": {},
     "output_type": "execute_result"
    }
   ],
   "source": [
    "data.at[2,'MESSAGE'] # Works of names\n",
    "data.iat[2,0] # Works of location\n",
    "data.iloc[0:2] \n",
    "data.loc[0:2] \n",
    "data.MESSAGE.iloc[0:3]"
   ]
  },
  {
   "cell_type": "markdown",
   "metadata": {},
   "source": [
    "# Apply Cleaning and Tokenization"
   ]
  },
  {
   "cell_type": "markdown",
   "metadata": {},
   "source": [
    "### Slicing Dataframe and Series and Creating Subsets"
   ]
  },
  {
   "cell_type": "code",
   "execution_count": 57,
   "metadata": {},
   "outputs": [],
   "source": [
    "first_emails = data.MESSAGE.iloc[0:3]\n",
    "\n",
    "nested_list = first_emails.apply(clean_message)"
   ]
  },
  {
   "cell_type": "code",
   "execution_count": 59,
   "metadata": {},
   "outputs": [
    {
     "data": {
      "text/plain": [
       "321"
      ]
     },
     "execution_count": 59,
     "metadata": {},
     "output_type": "execute_result"
    }
   ],
   "source": [
    "# flat_list = []\n",
    "\n",
    "# for sublist in nested_list:\n",
    "#     for item in sublist:\n",
    "#         flat_list.append(item)\n",
    "        \n",
    "# len(flat_list)\n",
    "\n",
    "flat_list = [item for sublist in nested_list for item in sublist]\n",
    "len(flat_list)"
   ]
  },
  {
   "cell_type": "code",
   "execution_count": 60,
   "metadata": {},
   "outputs": [
    {
     "name": "stderr",
     "output_type": "stream",
     "text": [
      "C:\\Users\\Gagan Arora\\.conda\\envs\\Custom\\lib\\site-packages\\bs4\\__init__.py:398: UserWarning: \"http://www.post-gazette.com/columnists/20020905brian5\n",
      "\" looks like a URL. Beautiful Soup is not an HTTP client. You should probably use an HTTP client like requests to get the document behind the URL, and feed that document to Beautiful Soup.\n",
      "  markup\n"
     ]
    }
   ],
   "source": [
    "\n",
    "nested_list = data.MESSAGE.apply(clean_message_no_html)"
   ]
  },
  {
   "cell_type": "code",
   "execution_count": 63,
   "metadata": {},
   "outputs": [
    {
     "data": {
      "text/plain": [
       "DOC_ID\n",
       "0    [save, life, insur, spend, life, quot, save, g...\n",
       "1    [fight, risk, cancer, http, slim, guarante, lo...\n",
       "2    [fight, risk, cancer, http, slim, guarante, lo...\n",
       "3    [adult, club, offer, free, membership, instant...\n",
       "4    [thought, might, like, slim, guarante, lose, l...\n",
       "Name: MESSAGE, dtype: object"
      ]
     },
     "execution_count": 63,
     "metadata": {},
     "output_type": "execute_result"
    }
   ],
   "source": [
    "nested_list.head()"
   ]
  },
  {
   "cell_type": "code",
   "execution_count": 72,
   "metadata": {},
   "outputs": [],
   "source": [
    "doc_ids_spam = data[data.CATEGORY==1].index\n",
    "doc_ids_ham = data[data.CATEGORY==0].index"
   ]
  },
  {
   "cell_type": "code",
   "execution_count": 71,
   "metadata": {},
   "outputs": [
    {
     "data": {
      "text/plain": [
       "array([   0,    1,    2, ..., 1893, 1894, 1895], dtype=int64)"
      ]
     },
     "execution_count": 71,
     "metadata": {},
     "output_type": "execute_result"
    }
   ],
   "source": [
    "doc_ids_spam.values"
   ]
  },
  {
   "cell_type": "markdown",
   "metadata": {},
   "source": [
    "#### Subsetting a Series with an Index"
   ]
  },
  {
   "cell_type": "code",
   "execution_count": 75,
   "metadata": {},
   "outputs": [],
   "source": [
    "nested_list_spam = nested_list.loc[doc_ids_spam]\n",
    "nested_list_ham = nested_list.loc[doc_ids_ham]"
   ]
  },
  {
   "cell_type": "code",
   "execution_count": 93,
   "metadata": {},
   "outputs": [
    {
     "data": {
      "text/plain": [
       "http      7561\n",
       "use       3630\n",
       "list      2878\n",
       "one       2371\n",
       "get       2284\n",
       "mail      2255\n",
       "would     2003\n",
       "like      1928\n",
       "messag    1847\n",
       "work      1798\n",
       "dtype: int64"
      ]
     },
     "execution_count": 93,
     "metadata": {},
     "output_type": "execute_result"
    }
   ],
   "source": [
    "flat_list_ham = [item for sublist in nested_list_ham for item in sublist]\n",
    "normal_words = pd.Series(flat_list_ham).value_counts()\n",
    "normal_words[:10]"
   ]
  },
  {
   "cell_type": "code",
   "execution_count": 95,
   "metadata": {},
   "outputs": [
    {
     "data": {
      "text/plain": [
       "email     3090\n",
       "http      3087\n",
       "free      2555\n",
       "click     2055\n",
       "receiv    1987\n",
       "list      1971\n",
       "get       1903\n",
       "pleas     1837\n",
       "busi      1792\n",
       "order     1743\n",
       "dtype: int64"
      ]
     },
     "execution_count": 95,
     "metadata": {},
     "output_type": "execute_result"
    }
   ],
   "source": [
    "flat_list_spam = [item for sublist in nested_list_spam for item in sublist]\n",
    "spammy_words = pd.Series(flat_list_spam).value_counts()\n",
    "spammy_words[:10]"
   ]
  },
  {
   "cell_type": "code",
   "execution_count": null,
   "metadata": {},
   "outputs": [],
   "source": []
  },
  {
   "cell_type": "code",
   "execution_count": null,
   "metadata": {},
   "outputs": [],
   "source": []
  }
 ],
 "metadata": {
  "kernelspec": {
   "display_name": "Python 3",
   "language": "python",
   "name": "python3"
  },
  "language_info": {
   "codemirror_mode": {
    "name": "ipython",
    "version": 3
   },
   "file_extension": ".py",
   "mimetype": "text/x-python",
   "name": "python",
   "nbconvert_exporter": "python",
   "pygments_lexer": "ipython3",
   "version": "3.7.6"
  }
 },
 "nbformat": 4,
 "nbformat_minor": 4
}
